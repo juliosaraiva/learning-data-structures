{
 "metadata": {
  "language_info": {
   "codemirror_mode": {
    "name": "ipython",
    "version": 3
   },
   "file_extension": ".py",
   "mimetype": "text/x-python",
   "name": "python",
   "nbconvert_exporter": "python",
   "pygments_lexer": "ipython3",
   "version": "3.8.5-final"
  },
  "orig_nbformat": 2,
  "kernelspec": {
   "name": "python3",
   "display_name": "Python 3",
   "language": "python"
  }
 },
 "nbformat": 4,
 "nbformat_minor": 2,
 "cells": [
  {
   "source": [
    "# Anagrams Solutions"
   ],
   "cell_type": "markdown",
   "metadata": {}
  },
  {
   "source": [
    "### Solution 1: Permutation"
   ],
   "cell_type": "markdown",
   "metadata": {}
  },
  {
   "cell_type": "code",
   "execution_count": 9,
   "metadata": {},
   "outputs": [],
   "source": [
    "def permutation(lst):\n",
    "\n",
    "    if len(lst) == 0:\n",
    "        return []\n",
    "    \n",
    "    if len(lst) == 1:\n",
    "        return [lst]\n",
    "\n",
    "    l = []\n",
    "\n",
    "    for i in range(len(lst)):\n",
    "        c = lst[i]\n",
    "        remLst = lst[:i] + lst[i+1:]\n",
    "\n",
    "        for p in permutation(remLst):\n",
    "            l.append([c] + p)\n",
    "\n",
    "    return l\n"
   ]
  },
  {
   "cell_type": "code",
   "execution_count": 93,
   "metadata": {},
   "outputs": [],
   "source": [
    "def anagramsPermutation(str1, str2):\n",
    "    string1 = str1.replace(\" \", \"\").lower()\n",
    "    string2 = str2.replace(\" \", \"\").lower()\n",
    "\n",
    "    return True if list(string2) in permutation(list(string1)) else False\n"
   ]
  },
  {
   "source": [
    "Anagram('123', '221')"
   ],
   "cell_type": "code",
   "metadata": {},
   "execution_count": 13,
   "outputs": [
    {
     "output_type": "stream",
     "name": "stdout",
     "text": [
      "False\n"
     ]
    }
   ]
  },
  {
   "cell_type": "code",
   "execution_count": 15,
   "metadata": {},
   "outputs": [
    {
     "output_type": "stream",
     "name": "stdout",
     "text": [
      "True\n"
     ]
    }
   ],
   "source": [
    "Anagram('julio', 'lioju')"
   ]
  },
  {
   "cell_type": "code",
   "execution_count": null,
   "metadata": {},
   "outputs": [],
   "source": []
  },
  {
   "source": [
    "### Solution 2: Sorting"
   ],
   "cell_type": "markdown",
   "metadata": {}
  },
  {
   "cell_type": "code",
   "execution_count": 104,
   "metadata": {},
   "outputs": [],
   "source": [
    "def anagramsSorting(str1, str2):\n",
    "    string1 = [c for c in str1.replace(\" \", \"\").lower()]\n",
    "    string2 = [c for c in str2.replace(\" \", \"\").lower()]\n",
    "\n",
    "    if len(string1) != len(string2):\n",
    "        return False\n",
    "\n",
    "    quicksort(string1)\n",
    "    quicksort(string2)\n",
    "    string1 = ''.join(string1)\n",
    "    string2 = ''.join(string2)\n",
    "\n",
    "    if string1 != string2:\n",
    "        return False\n",
    "    \n",
    "    return True\n",
    "\n",
    "\n",
    "    \n",
    "\n"
   ]
  },
  {
   "cell_type": "code",
   "execution_count": 105,
   "metadata": {},
   "outputs": [],
   "source": [
    "def partition(array, l, r):\n",
    "    pivot = array[r]\n",
    "    i = l - 1\n",
    "    for j in range(l, r):\n",
    "        if array[j] < pivot:\n",
    "            i += 1\n",
    "            array[j], array[i] = array[i], array[j]\n",
    "    array[i+1], array[r] = array[r], array[i+1]\n",
    "    return (i+1)\n",
    "\n",
    "\n",
    "def quicksort(array, begin=0, end=None):\n",
    "    if end == None:\n",
    "        end = len(array) - 1\n",
    "\n",
    "    if begin < end:\n",
    "        p = partition(array, begin, end)\n",
    "\n",
    "        quicksort(array, begin, p - 1)\n",
    "        quicksort(array, p + 1, end)\n"
   ]
  },
  {
   "cell_type": "code",
   "execution_count": 106,
   "metadata": {},
   "outputs": [
    {
     "output_type": "execute_result",
     "data": {
      "text/plain": [
       "True"
      ]
     },
     "metadata": {},
     "execution_count": 106
    }
   ],
   "source": [
    "anagramsSorting(\"clint eastwood\", \"old west action\")"
   ]
  },
  {
   "source": [
    "\n",
    "### Solution 3: Histogramming"
   ],
   "cell_type": "markdown",
   "metadata": {}
  },
  {
   "cell_type": "code",
   "execution_count": 96,
   "metadata": {},
   "outputs": [],
   "source": [
    "def AnagramsHistogramming(str1, str2):\n",
    "    string1 = str1.replace(\" \", \"\").lower()\n",
    "    string2 = str2.replace(\" \", \"\").lower()\n",
    "\n",
    "    if len(string1) != len(string2):\n",
    "        return False\n",
    "\n",
    "    count = {}\n",
    "\n",
    "    for i in string1:\n",
    "        if i in count:\n",
    "            count[i] += 1\n",
    "        else:\n",
    "            count[i] = 1\n",
    "    \n",
    "    for j in string2:\n",
    "        if j not in count:\n",
    "            return False\n",
    "        else:\n",
    "            count[j] -= 1\n",
    "\n",
    "    for v in count.values():\n",
    "        if v != 0:\n",
    "            return False\n",
    "\n",
    "    return True\n",
    "\n",
    "    "
   ]
  },
  {
   "cell_type": "code",
   "execution_count": 100,
   "metadata": {},
   "outputs": [
    {
     "output_type": "execute_result",
     "data": {
      "text/plain": [
       "True"
      ]
     },
     "metadata": {},
     "execution_count": 100
    }
   ],
   "source": [
    "AnagramsHistogramming(\"clint eastwood\", \"old west action\")"
   ]
  },
  {
   "cell_type": "code",
   "execution_count": null,
   "metadata": {},
   "outputs": [],
   "source": []
  }
 ]
}