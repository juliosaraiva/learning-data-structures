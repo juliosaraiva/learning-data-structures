{
 "metadata": {
  "language_info": {
   "codemirror_mode": {
    "name": "ipython",
    "version": 3
   },
   "file_extension": ".py",
   "mimetype": "text/x-python",
   "name": "python",
   "nbconvert_exporter": "python",
   "pygments_lexer": "ipython3",
   "version": "3.8.5-final"
  },
  "orig_nbformat": 2,
  "kernelspec": {
   "name": "python3",
   "display_name": "Python 3",
   "language": "python"
  }
 },
 "nbformat": 4,
 "nbformat_minor": 2,
 "cells": [
  {
   "source": [
    "# Dynamic Array"
   ],
   "cell_type": "markdown",
   "metadata": {}
  },
  {
   "cell_type": "code",
   "execution_count": null,
   "metadata": {},
   "outputs": [],
   "source": [
    "import ctypes\n",
    "\n",
    "class DynamicArray:\n",
    "    def __init__(self):\n",
    "        self.end_index = 0 # Count actual elements (Default is 0)\n",
    "        self.capacity = 1 # Default capacity of Array\n",
    "        self.array = self._create_array(self.capacity)\n",
    "\n",
    "    def __len__(self):\n",
    "        \"\"\"\n",
    "        Return number of elements sorted in array\n",
    "        \"\"\"\n",
    "        return self.end_index\n",
    "\n",
    "    def __getitem__(self, idx):\n",
    "        \"\"\"\n",
    "        Return element at index idx\n",
    "        \"\"\"\n",
    "        if not 0 <= idx < self.end_index:\n",
    "            raise IndexError('idx is out of bound!')\n",
    "\n",
    "        return self.array[idx]\n",
    "\n",
    "    def append(self, item):\n",
    "        \"\"\"\n",
    "        Add element to end of the array\n",
    "        \"\"\"\n",
    "        if self.end_index == self.capacity:\n",
    "            self._resize(2 * self.capacity)\n",
    "        \n",
    "        self.array.append(item)\n",
    "\n",
    "    def _resize(self, new_cap):\n",
    "        \n",
    "        B = self._create_array(new_cap)\n",
    "\n",
    "        for i in range(self.n):\n",
    "            B[i] = self.array[i]\n",
    "\n",
    "        self.array = B\n",
    "        self.capacity = new_cap\n",
    "\n",
    "    def _create_array(self, new_cap):\n",
    "        return (new_cap * ctypes.py_object)()"
   ]
  }
 ]
}